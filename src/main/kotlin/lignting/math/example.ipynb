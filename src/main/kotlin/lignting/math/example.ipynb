{
 "cells": [
  {
   "metadata": {},
   "cell_type": "markdown",
   "source": "在开始这个文档之前，请调用`lignting.math`包"
  },
  {
   "metadata": {},
   "cell_type": "code",
   "source": "import lignting.math.*",
   "outputs": [],
   "execution_count": null
  },
  {
   "metadata": {},
   "cell_type": "markdown",
   "source": "---"
  },
  {
   "metadata": {},
   "cell_type": "markdown",
   "source": [
    "### 向量\n",
    "\n",
    "---"
   ]
  },
  {
   "metadata": {},
   "cell_type": "markdown",
   "source": "如果你想要快速的创建一个向量，那么可以调用`vectorOf(vararg values:T)`方法"
  },
  {
   "metadata": {},
   "cell_type": "code",
   "source": "vectorOf(1, 2, 3, 4)",
   "outputs": [],
   "execution_count": null
  },
  {
   "metadata": {},
   "cell_type": "markdown",
   "source": "当然，如果你想创建一个浮点数的向量，那么请使用浮点数来调用`vectorOf(vararg values:T)`"
  },
  {
   "metadata": {},
   "cell_type": "code",
   "source": "vectorOf(1.0, 2.0, 3.0)",
   "outputs": [],
   "execution_count": null
  },
  {
   "metadata": {},
   "cell_type": "markdown",
   "source": "如果你更简便的创建一个包含大量浮点数的向量，那么也可以使用`asDouble()`方法"
  },
  {
   "metadata": {},
   "cell_type": "code",
   "source": "vectorOf(1, 2, 3).asDouble().type()",
   "outputs": [],
   "execution_count": null
  },
  {
   "metadata": {},
   "cell_type": "markdown",
   "source": "当然，我们会更推荐在创建一个向量之后再次使用as-type方法来规定类型"
  },
  {
   "metadata": {},
   "cell_type": "markdown",
   "source": "当然，如果你需要按照给定的坐标填充数值，比方说获取一个逐步递增的向量，那么也可以使用和`List(size:Int,function:(Int)->T)`方法类似的方案"
  },
  {
   "metadata": {},
   "cell_type": "code",
   "source": "Vector(3) { it }",
   "outputs": [],
   "execution_count": null
  },
  {
   "metadata": {},
   "cell_type": "markdown",
   "source": "---"
  },
  {
   "metadata": {},
   "cell_type": "markdown",
   "source": [
    "### 矩阵\n",
    "\n",
    "---"
   ]
  },
  {
   "metadata": {},
   "cell_type": "markdown",
   "source": "创建矩阵首选的方式当然是使用向量列表进行创建"
  },
  {
   "metadata": {},
   "cell_type": "code",
   "source": [
    "listOf(\n",
    "    vectorOf(1, 2, 3),\n",
    "    vectorOf(4, 5, 6)\n",
    ").toMatrix()"
   ],
   "outputs": [],
   "execution_count": null
  },
  {
   "metadata": {},
   "cell_type": "markdown",
   "source": "当然了，也可以通过更简单的方式来创建"
  },
  {
   "metadata": {},
   "cell_type": "code",
   "source": [
    "matrixOf(\n",
    "    vectorOf(1, 2, 3),\n",
    "    vectorOf(4, 5, 6)\n",
    ")"
   ],
   "outputs": [],
   "execution_count": null
  },
  {
   "metadata": {},
   "cell_type": "markdown",
   "source": [
    "或许你注意到了，一个向量也是一个矩阵。\n",
    "所以，你可以使用`toMatrix()`方法来将向量变成矩阵"
   ]
  },
  {
   "metadata": {},
   "cell_type": "code",
   "source": "vectorOf(1, 2, 3, 4).toMatrix()",
   "outputs": [],
   "execution_count": null
  },
  {
   "metadata": {},
   "cell_type": "markdown",
   "source": "当然，如果你不想构建向量，也可以直接通过列表来构建矩阵"
  },
  {
   "metadata": {},
   "cell_type": "code",
   "source": [
    "listOf(\n",
    "    listOf(1, 2, 3, 4),\n",
    "    listOf(1, 2, 3)\n",
    ").toMatrixByList()"
   ],
   "outputs": [],
   "execution_count": null
  },
  {
   "metadata": {},
   "cell_type": "code",
   "source": [
    "matrixOf(\n",
    "    listOf(1, 2, 3, 4),\n",
    "    listOf(1, 2, 3)\n",
    ")"
   ],
   "outputs": [],
   "execution_count": null
  },
  {
   "metadata": {},
   "cell_type": "markdown",
   "source": "当然了，你也可以通过自定义填充方案的方式来创建矩阵"
  },
  {
   "metadata": {},
   "cell_type": "code",
   "source": [
    "Matrix(2 to 3) {\n",
    "    (it.first + 1) * (it.second + 1)\n",
    "}"
   ],
   "outputs": [],
   "execution_count": null
  },
  {
   "metadata": {},
   "cell_type": "markdown",
   "source": "---"
  },
  {
   "metadata": {},
   "cell_type": "markdown",
   "source": [
    "### 基础信息\n",
    "\n",
    "---"
   ]
  },
  {
   "metadata": {},
   "cell_type": "code",
   "source": [
    "val vector = vectorOf(1, 2, 3, 4).asInt().print() \n",
    "\n",
    "\"type : ${vector.type()}\\nshape : ${vector.shape()}\\n\""
   ],
   "outputs": [],
   "execution_count": null
  },
  {
   "metadata": {},
   "cell_type": "markdown",
   "source": "---"
  },
  {
   "metadata": {},
   "cell_type": "markdown",
   "source": [
    "### 重塑\n",
    "\n",
    "---"
   ]
  },
  {
   "metadata": {},
   "cell_type": "markdown",
   "source": [
    "向量的重塑，即改变长度\n",
    "\n",
    "新的长度小于原本的长度就会截取多余的部分，但是如果大于，则会把新增的部分填入空值，即`Values.Nan`"
   ]
  },
  {
   "metadata": {},
   "cell_type": "code",
   "source": "vectorOf(1, 2, 3, 4).reshape(5)",
   "outputs": [],
   "execution_count": null
  },
  {
   "metadata": {},
   "cell_type": "markdown",
   "source": "矩阵也一样，但是由于会改变两个维度各自的长度，所以效果来说，是类似`numpy.reshape`的，但是即便传入的维度大小乘积于原本的不一致也是可以运行的，多出的部分会填入`Values.Nan`，缺少的部分会被删除掉"
  },
  {
   "metadata": {},
   "cell_type": "code",
   "source": [
    "matrixOf(\n",
    "    vectorOf(1, 2, 3),\n",
    "    vectorOf(4, 5, 6)\n",
    ").reshape(4 to 2)"
   ],
   "outputs": [],
   "execution_count": null
  },
  {
   "metadata": {},
   "cell_type": "code",
   "source": "",
   "outputs": [],
   "execution_count": null
  }
 ],
 "metadata": {
  "kernelspec": {
   "display_name": "Kotlin",
   "language": "kotlin",
   "name": "kotlin"
  },
  "language_info": {
   "name": "kotlin",
   "version": "1.9.23",
   "mimetype": "text/x-kotlin",
   "file_extension": ".kt",
   "pygments_lexer": "kotlin",
   "codemirror_mode": "text/x-kotlin",
   "nbconvert_exporter": ""
  },
  "ktnbPluginMetadata": {
   "projectDependencies": true
  }
 },
 "nbformat": 4,
 "nbformat_minor": 0
}
