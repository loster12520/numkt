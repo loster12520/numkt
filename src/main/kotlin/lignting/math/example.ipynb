{
 "cells": [
  {
   "metadata": {},
   "cell_type": "markdown",
   "source": "在开始这个文档之前，请调用`lignting.math`包"
  },
  {
   "metadata": {
    "ExecuteTime": {
     "end_time": "2024-10-24T02:31:11.799134Z",
     "start_time": "2024-10-24T02:31:11.701133800Z"
    }
   },
   "cell_type": "code",
   "source": "import lignting.math.*",
   "outputs": [],
   "execution_count": 1
  },
  {
   "metadata": {
    "ExecuteTime": {
     "end_time": "2024-10-24T02:32:41.593755700Z",
     "start_time": "2024-10-24T02:32:41.098758700Z"
    }
   },
   "cell_type": "code",
   "source": [
    "import lignting.math.matrixOf\n",
    "\n",
    "matrixOf(\n",
    "    listOf(1,2,3),\n",
    "    listOf(4,5,6)\n",
    ")"
   ],
   "outputs": [
    {
     "data": {
      "text/plain": [
       "class java.lang.Integer"
      ]
     },
     "execution_count": 2,
     "metadata": {},
     "output_type": "execute_result"
    }
   ],
   "execution_count": 2
  },
  {
   "metadata": {},
   "cell_type": "markdown",
   "source": "---"
  },
  {
   "metadata": {},
   "cell_type": "markdown",
   "source": [
    "### 向量\n",
    "\n",
    "---"
   ]
  },
  {
   "metadata": {},
   "cell_type": "markdown",
   "source": "如果你想要快速的创建一个向量，那么可以调用`vectorOf(vararg values:T)`方法"
  },
  {
   "metadata": {
    "ExecuteTime": {
     "end_time": "2024-10-23T14:05:38.568639Z",
     "start_time": "2024-10-23T14:05:38.489134600Z"
    }
   },
   "cell_type": "code",
   "source": "vectorOf(1, 2, 3, 4)",
   "outputs": [
    {
     "data": {
      "text/plain": [
       "Vector(size=4, values=[1, 2, 3, 4], type=class java.lang.Integer)"
      ]
     },
     "execution_count": 2,
     "metadata": {},
     "output_type": "execute_result"
    }
   ],
   "execution_count": 2
  },
  {
   "metadata": {},
   "cell_type": "markdown",
   "source": "当然，如果你想创建一个浮点数的向量，那么请使用浮点数来调用`vectorOf(vararg values:T)`"
  },
  {
   "metadata": {
    "ExecuteTime": {
     "end_time": "2024-10-23T14:05:38.617643100Z",
     "start_time": "2024-10-23T14:05:38.581639200Z"
    }
   },
   "cell_type": "code",
   "source": "vectorOf(1.0, 2.0, 3.0)",
   "outputs": [
    {
     "data": {
      "text/plain": [
       "Vector(size=3, values=[1.0, 2.0, 3.0], type=class java.lang.Double)"
      ]
     },
     "execution_count": 3,
     "metadata": {},
     "output_type": "execute_result"
    }
   ],
   "execution_count": 3
  },
  {
   "metadata": {},
   "cell_type": "markdown",
   "source": "如果你更简便的创建一个包含大量浮点数的向量，那么也可以使用`asDouble()`方法"
  },
  {
   "metadata": {
    "ExecuteTime": {
     "end_time": "2024-10-23T14:05:38.757474400Z",
     "start_time": "2024-10-23T14:05:38.674639700Z"
    }
   },
   "cell_type": "code",
   "source": "vectorOf(1, 2, 3).asDouble().type()",
   "outputs": [
    {
     "data": {
      "text/plain": [
       "double"
      ]
     },
     "execution_count": 4,
     "metadata": {},
     "output_type": "execute_result"
    }
   ],
   "execution_count": 4
  },
  {
   "metadata": {},
   "cell_type": "markdown",
   "source": "当然，我们会更推荐在创建一个向量之后再次使用as-type方法来规定类型"
  },
  {
   "metadata": {},
   "cell_type": "markdown",
   "source": "当然，如果你需要按照给定的坐标填充数值，比方说获取一个逐步递增的向量，那么也可以使用和`List(size:Int,function:(Int)->T)`方法类似的方案"
  },
  {
   "metadata": {
    "ExecuteTime": {
     "end_time": "2024-10-23T14:05:38.841528400Z",
     "start_time": "2024-10-23T14:05:38.769331700Z"
    }
   },
   "cell_type": "code",
   "source": "Vector(3) { it }",
   "outputs": [
    {
     "data": {
      "text/plain": [
       "Vector(size=3, values=[0, 1, 2], type=class java.lang.Number)"
      ]
     },
     "execution_count": 5,
     "metadata": {},
     "output_type": "execute_result"
    }
   ],
   "execution_count": 5
  },
  {
   "metadata": {},
   "cell_type": "markdown",
   "source": "---"
  },
  {
   "metadata": {},
   "cell_type": "markdown",
   "source": [
    "### 矩阵\n",
    "\n",
    "---"
   ]
  },
  {
   "metadata": {},
   "cell_type": "markdown",
   "source": "创建矩阵首选的方式当然是使用向量列表进行创建"
  },
  {
   "metadata": {
    "ExecuteTime": {
     "end_time": "2024-10-23T14:05:38.916085200Z",
     "start_time": "2024-10-23T14:05:38.858999200Z"
    }
   },
   "cell_type": "code",
   "source": [
    "listOf(\n",
    "    vectorOf(1, 2, 3),\n",
    "    vectorOf(4, 5, 6)\n",
    ").toMatrix()"
   ],
   "outputs": [
    {
     "data": {
      "text/plain": [
       "Matrix(shape=(2, 3), values=[[1, 2, 3], [4, 5, 6]], type=class java.lang.Integer)"
      ]
     },
     "execution_count": 6,
     "metadata": {},
     "output_type": "execute_result"
    }
   ],
   "execution_count": 6
  },
  {
   "metadata": {},
   "cell_type": "markdown",
   "source": "当然了，也可以通过更简单的方式来创建"
  },
  {
   "metadata": {
    "ExecuteTime": {
     "end_time": "2024-10-23T14:05:38.980084800Z",
     "start_time": "2024-10-23T14:05:38.930085Z"
    }
   },
   "cell_type": "code",
   "source": [
    "matrixOf(\n",
    "    vectorOf(1, 2, 3),\n",
    "    vectorOf(4, 5, 6)\n",
    ")"
   ],
   "outputs": [
    {
     "data": {
      "text/plain": [
       "Matrix(shape=(2, 3), values=[[1, 2, 3], [4, 5, 6]], type=class java.lang.Integer)"
      ]
     },
     "execution_count": 7,
     "metadata": {},
     "output_type": "execute_result"
    }
   ],
   "execution_count": 7
  },
  {
   "metadata": {},
   "cell_type": "markdown",
   "source": [
    "或许你注意到了，一个向量也是一个矩阵。\n",
    "所以，你可以使用`toMatrix()`方法来将向量变成矩阵"
   ]
  },
  {
   "metadata": {
    "ExecuteTime": {
     "end_time": "2024-10-23T14:05:39.087362Z",
     "start_time": "2024-10-23T14:05:39.053384400Z"
    }
   },
   "cell_type": "code",
   "source": "vectorOf(1, 2, 3, 4).toMatrix()",
   "outputs": [
    {
     "data": {
      "text/plain": [
       "Matrix(shape=(1, 4), values=[[1, 2, 3, 4]], type=class java.lang.Integer)"
      ]
     },
     "execution_count": 8,
     "metadata": {},
     "output_type": "execute_result"
    }
   ],
   "execution_count": 8
  },
  {
   "metadata": {},
   "cell_type": "markdown",
   "source": "当然，如果你不想构建向量，也可以直接通过列表来构建矩阵"
  },
  {
   "metadata": {
    "ExecuteTime": {
     "end_time": "2024-10-23T14:05:39.214757200Z",
     "start_time": "2024-10-23T14:05:39.172256800Z"
    }
   },
   "cell_type": "code",
   "source": [
    "listOf(\n",
    "    listOf(1, 2, 3, 4),\n",
    "    listOf(1, 2, 3)\n",
    ").toMatrixByList()"
   ],
   "outputs": [
    {
     "data": {
      "text/plain": [
       "Matrix(shape=(2, 4), values=[[1, 2, 3, 4], [1, 2, 3, Values.Nan]], type=class java.lang.Integer)"
      ]
     },
     "execution_count": 9,
     "metadata": {},
     "output_type": "execute_result"
    }
   ],
   "execution_count": 9
  },
  {
   "metadata": {
    "ExecuteTime": {
     "end_time": "2024-10-23T14:05:39.330236Z",
     "start_time": "2024-10-23T14:05:39.285287200Z"
    }
   },
   "cell_type": "code",
   "source": [
    "matrixOf(\n",
    "    listOf(1, 2, 3, 4),\n",
    "    listOf(1, 2, 3)\n",
    ")"
   ],
   "outputs": [
    {
     "data": {
      "text/plain": [
       "Matrix(shape=(2, 4), values=[[1, 2, 3, 4], [1, 2, 3, Values.Nan]], type=class java.lang.Integer)"
      ]
     },
     "execution_count": 10,
     "metadata": {},
     "output_type": "execute_result"
    }
   ],
   "execution_count": 10
  },
  {
   "metadata": {},
   "cell_type": "markdown",
   "source": "当然了，你也可以通过自定义填充方案的方式来创建矩阵"
  },
  {
   "metadata": {
    "ExecuteTime": {
     "end_time": "2024-10-23T14:05:39.480671900Z",
     "start_time": "2024-10-23T14:05:39.413735300Z"
    }
   },
   "cell_type": "code",
   "source": [
    "Matrix(2 to 3) {\n",
    "    (it.first + 1) * (it.second + 1)\n",
    "}"
   ],
   "outputs": [
    {
     "data": {
      "text/plain": [
       "Matrix(shape=(2, 3), values=[[1, 2, 3], [2, 4, 6]], type=class java.lang.Number)"
      ]
     },
     "execution_count": 11,
     "metadata": {},
     "output_type": "execute_result"
    }
   ],
   "execution_count": 11
  },
  {
   "metadata": {},
   "cell_type": "markdown",
   "source": "---"
  },
  {
   "metadata": {},
   "cell_type": "markdown",
   "source": [
    "### 基础信息\n",
    "\n",
    "---"
   ]
  },
  {
   "metadata": {
    "ExecuteTime": {
     "end_time": "2024-10-23T14:05:39.668034300Z",
     "start_time": "2024-10-23T14:05:39.569718400Z"
    }
   },
   "cell_type": "code",
   "source": [
    "val vector = vectorOf(1, 2, 3, 4).asInt().print() \n",
    "\n",
    "\"type : ${vector.type()}\\nshape : ${vector.shape()}\\n\""
   ],
   "outputs": [
    {
     "name": "stdout",
     "output_type": "stream",
     "text": [
      "Vector(size=4, values=[1, 2, 3, 4], type=int)\r\n"
     ]
    },
    {
     "data": {
      "text/plain": [
       "type : int\n",
       "shape : 4\n"
      ]
     },
     "execution_count": 12,
     "metadata": {},
     "output_type": "execute_result"
    }
   ],
   "execution_count": 12
  },
  {
   "metadata": {},
   "cell_type": "markdown",
   "source": "---"
  },
  {
   "metadata": {},
   "cell_type": "markdown",
   "source": [
    "### 重塑\n",
    "\n",
    "---"
   ]
  },
  {
   "metadata": {},
   "cell_type": "markdown",
   "source": [
    "向量的重塑，即改变长度\n",
    "\n",
    "新的长度小于原本的长度就会截取多余的部分，但是如果大于，则会把新增的部分填入空值，即`Values.Nan`"
   ]
  },
  {
   "metadata": {
    "ExecuteTime": {
     "end_time": "2024-10-23T14:05:39.900259900Z",
     "start_time": "2024-10-23T14:05:39.866653700Z"
    }
   },
   "cell_type": "code",
   "source": "vectorOf(1, 2, 3, 4).reshape(5)",
   "outputs": [
    {
     "data": {
      "text/plain": [
       "Vector(size=5, values=[1, 2, 3, 4, Values.Nan], type=class java.lang.Integer)"
      ]
     },
     "execution_count": 13,
     "metadata": {},
     "output_type": "execute_result"
    }
   ],
   "execution_count": 13
  },
  {
   "metadata": {},
   "cell_type": "markdown",
   "source": "矩阵也一样，但是由于会改变两个维度各自的长度，所以效果来说，是类似`numpy.reshape`的，但是即便传入的维度大小乘积于原本的不一致也是可以运行的，多出的部分会填入`Values.Nan`，缺少的部分会被删除掉"
  },
  {
   "metadata": {
    "ExecuteTime": {
     "end_time": "2024-10-23T14:05:40.110199600Z",
     "start_time": "2024-10-23T14:05:40.054199200Z"
    }
   },
   "cell_type": "code",
   "source": [
    "matrixOf(\n",
    "    vectorOf(1, 2, 3),\n",
    "    vectorOf(4, 5, 6)\n",
    ").reshape(4 to 2)"
   ],
   "outputs": [
    {
     "data": {
      "text/plain": [
       "Matrix(shape=(4, 2), values=[[1, 2], [3, 4], [5, 6], [Values.Nan, Values.Nan]], type=class java.lang.Integer)"
      ]
     },
     "execution_count": 14,
     "metadata": {},
     "output_type": "execute_result"
    }
   ],
   "execution_count": 14
  },
  {
   "metadata": {},
   "cell_type": "code",
   "outputs": [],
   "execution_count": null,
   "source": ""
  }
 ],
 "metadata": {
  "kernelspec": {
   "display_name": "Kotlin",
   "language": "kotlin",
   "name": "kotlin"
  },
  "language_info": {
   "name": "kotlin",
   "version": "1.9.23",
   "mimetype": "text/x-kotlin",
   "file_extension": ".kt",
   "pygments_lexer": "kotlin",
   "codemirror_mode": "text/x-kotlin",
   "nbconvert_exporter": ""
  },
  "ktnbPluginMetadata": {
   "projectDependencies": true
  }
 },
 "nbformat": 4,
 "nbformat_minor": 0
}
